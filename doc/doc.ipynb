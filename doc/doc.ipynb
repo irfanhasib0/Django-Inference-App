{
 "cells": [
  {
   "cell_type": "markdown",
   "id": "16a68315-2743-40c5-8d1f-685990a3dcda",
   "metadata": {},
   "source": [
    "1. django-admin startproject mysite"
   ]
  },
  {
   "cell_type": "markdown",
   "id": "e26e651f-444d-4f5f-9606-8793e8432c55",
   "metadata": {},
   "source": [
    "mysite/\n",
    "    manage.py\n",
    "    mysite/\n",
    "        __init__.py\n",
    "        settings.py\n",
    "        urls.py\n",
    "        asgi.py\n",
    "        wsgi.py"
   ]
  },
  {
   "cell_type": "markdown",
   "id": "395967c1-54b0-448c-8459-bbfe8c68622c",
   "metadata": {},
   "source": [
    "2. python manage.py startapp app1"
   ]
  },
  {
   "cell_type": "markdown",
   "id": "3a27e51e-af15-4fcf-9f59-5bbd2022d651",
   "metadata": {},
   "source": [
    "app1/\n",
    "    __init__.py\n",
    "    admin.py\n",
    "    apps.py\n",
    "    migrations/\n",
    "        __init__.py\n",
    "        models.py\n",
    "        tests.py\n",
    "        views.py"
   ]
  },
  {
   "cell_type": "markdown",
   "id": "61f1f39c-8968-4c5e-bf92-7c07a46bbd0c",
   "metadata": {},
   "source": [
    "3. Create a view in app1/views.py\n",
    "   def app1(request):\n",
    "        return render(response,'app1.html',{})\n",
    "4. \n",
    "   - Add url in app1/urls.py \n",
    "      urlpatterns += [path('', views.app1, name='app1')]\n",
    "   - Add url in mysite/urls.py\n",
    "      urlpatterns += [path('app1/',include(app1.urls))]\n",
    "5. Create app1.html as templates\\app1.html"
   ]
  },
  {
   "cell_type": "markdown",
   "id": "3836f57f-b837-494a-b2dd-46beb7661509",
   "metadata": {},
   "source": [
    "python manage.py makemigrations\n",
    "python manage.py migrate\n",
    "python manage.py runserver 0.0.0.0:9001"
   ]
  },
  {
   "cell_type": "markdown",
   "id": "6e9ef1fc-8f23-4e7c-ac01-f916a499439c",
   "metadata": {},
   "source": [
    "### Models"
   ]
  },
  {
   "cell_type": "markdown",
   "id": "d468e76b-bb12-4418-a47f-d8b14235db24",
   "metadata": {},
   "source": [
    "1. Add model class like class DataIO in models.py\n",
    "2. Register DataIO class in admin.py\n",
    "\n",
    "    class DataIO(models.Model):\n",
    "        index = models.IntegerField(primary_key=True)\n",
    "        col_1 = models.FloatField()\n",
    "    \n",
    "python manage.py makemigrations\n",
    "python manage.py migrate"
   ]
  },
  {
   "cell_type": "markdown",
   "id": "92f602e2-a6ed-4639-9ed7-aeb7bed1f485",
   "metadata": {},
   "source": [
    "### Staticfiles"
   ]
  },
  {
   "cell_type": "markdown",
   "id": "34ecbc6a-df3c-403a-91f0-6e7c43a33486",
   "metadata": {},
   "source": [
    "1. STATIC_ROOT = 'staticfiles' for collecting all static files\n",
    "2. Make STATIC_URL as '/static/'\n",
    "3. Store JS, CSS and Image as app1/static/js/1.js or app1/static/css/1.css or app1/static/img/1.css\n",
    "        {% load staticfiles %}\n",
    "    \"{% static \"\" %}\"\n",
    "4. python manage.py collectstatic\n",
    "5. Make STATIC_DIRS = ('dir1/','dir2')add folders to look at for other static files\n",
    "6. python manage.py collectstatic"
   ]
  }
 ],
 "metadata": {
  "kernelspec": {
   "display_name": "Python 3 (ipykernel)",
   "language": "python",
   "name": "python3"
  },
  "language_info": {
   "codemirror_mode": {
    "name": "ipython",
    "version": 3
   },
   "file_extension": ".py",
   "mimetype": "text/x-python",
   "name": "python",
   "nbconvert_exporter": "python",
   "pygments_lexer": "ipython3",
   "version": "3.7.11"
  }
 },
 "nbformat": 4,
 "nbformat_minor": 5
}
