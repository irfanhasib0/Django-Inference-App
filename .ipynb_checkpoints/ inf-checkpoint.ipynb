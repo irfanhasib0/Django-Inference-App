{
 "cells": [
  {
   "cell_type": "code",
   "execution_count": 1,
   "id": "49964a20-f717-4c4c-8f06-8c939d8d2400",
   "metadata": {},
   "outputs": [],
   "source": [
    "#================================================================\n",
    "# Yolo V-3 by irfanhasib.me@gmail.com\n",
    "# Inspired by -\n",
    "# GitHub      : https://github.com/irfanhasib0\n",
    "#================================================================\n",
    "import os\n",
    "os.environ['TF_DETERMINISTIC_OPS'] = '1'\n",
    "os.environ['PYTHONHASHSEED']=str(0)\n",
    "os.environ['CUDA_VISIBLE_DEVICES'] = '0'\n",
    "import cv2\n",
    "import numpy as np\n",
    "import time\n",
    "import glob\n",
    "from matplotlib import pyplot as plt\n",
    "from multiprocessing import Process, Queue, Pipe\n",
    "import time\n",
    "import shutil\n",
    "import json\n",
    "from tqdm import tqdm,trange\n",
    "import pickle\n",
    "import zlib\n",
    "from datetime import datetime\n",
    "\n",
    "from yolo.model import YoloModel, calc_yolo_loss, calc_seg_loss\n",
    "from yolo.decoder import YoloDecodeNetout\n",
    "from yolo.dataset import Dataset\n",
    "from yolo.eval import get_mAP\n",
    "from yolo.utils import Utils\n",
    "from yolo.seg_loader import Seg_Utils\n",
    "from yolo.config import *\n",
    "from yolo.tf import *"
   ]
  },
  {
   "cell_type": "code",
   "execution_count": null,
   "id": "344376a1-f538-425a-a7f8-351b4f5a57da",
   "metadata": {
    "scrolled": true,
    "tags": []
   },
   "outputs": [
    {
     "name": "stdout",
     "output_type": "stream",
     "text": [
      "Loading custom weights from: logs/exp-401/model_epoch_9_val_det_loss_30.7866/weights\n",
      "WARNING:tensorflow:Inconsistent references when loading the checkpoint into this object graph. Either the Trackable object references in the Python program have changed in an incompatible way, or the checkpoint was generated in an incompatible program.\n",
      "\n",
      "Two checkpoint references resolved to different objects (<tensorflow.python.keras.layers.convolutional.Conv2D object at 0x7f82ec3972b0> and <tensorflow.python.keras.layers.convolutional.Conv2D object at 0x7f82ec33ab00>).\n",
      "WARNING:tensorflow:Inconsistent references when loading the checkpoint into this object graph. Either the Trackable object references in the Python program have changed in an incompatible way, or the checkpoint was generated in an incompatible program.\n",
      "\n",
      "Two checkpoint references resolved to different objects (<tensorflow.python.keras.layers.convolutional.Conv2D object at 0x7f82ec33ab00> and <tensorflow.python.keras.layers.core.SlicingOpLambda object at 0x7f82ec2c0278>).\n",
      "WARNING:tensorflow:Inconsistent references when loading the checkpoint into this object graph. Either the Trackable object references in the Python program have changed in an incompatible way, or the checkpoint was generated in an incompatible program.\n",
      "\n",
      "Two checkpoint references resolved to different objects (<tensorflow.python.keras.layers.convolutional.Conv2D object at 0x7f82ec3604a8> and <tensorflow.python.keras.layers.advanced_activations.ReLU object at 0x7f82ec2fb390>).\n",
      "Entering --------------------\n"
     ]
    }
   ],
   "source": [
    "if not os.path.exists(TRAIN_CHECKPOINTS_FOLDER+'/pred_imgs'): os.makedirs(TRAIN_CHECKPOINTS_FOLDER+'/pred_imgs')\n",
    "video_path = \"road.mp4\"\n",
    "img_path   = \"webapp/imgs/\"\n",
    "yolo = YoloModel()\n",
    "yolo_model=yolo.get_model()\n",
    "decoder = YoloDecodeNetout()\n",
    "\n",
    "#decoder.detect_video(yolo_model, video_path, input_size=256, show=True, score_threshold=0.1, iou_threshold=0.2, rectangle_colors='')\n",
    "decoder.detect_images(yolo_model, img_path, output_path=TRAIN_CHECKPOINTS_FOLDER+'/pred_imgs/',input_size=256, show=True, score_threshold=0.3, iou_threshold=0.5, rectangle_colors='')"
   ]
  },
  {
   "cell_type": "code",
   "execution_count": null,
   "id": "a0471860-a0f9-4d40-967a-ea0ce2507cf6",
   "metadata": {},
   "outputs": [],
   "source": []
  }
 ],
 "metadata": {
  "kernelspec": {
   "display_name": "Python 3 (ipykernel)",
   "language": "python",
   "name": "python3"
  },
  "language_info": {
   "codemirror_mode": {
    "name": "ipython",
    "version": 3
   },
   "file_extension": ".py",
   "mimetype": "text/x-python",
   "name": "python",
   "nbconvert_exporter": "python",
   "pygments_lexer": "ipython3",
   "version": "3.7.11"
  }
 },
 "nbformat": 4,
 "nbformat_minor": 5
}
