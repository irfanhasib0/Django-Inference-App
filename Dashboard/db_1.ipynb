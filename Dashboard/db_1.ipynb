{
 "cells": [
  {
   "cell_type": "code",
   "execution_count": 13,
   "id": "83100f84",
   "metadata": {},
   "outputs": [
    {
     "name": "stdout",
     "output_type": "stream",
     "text": [
      "Overwriting db_1.html\n"
     ]
    }
   ],
   "source": [
    "%%writefile db_1.html\n",
    "<html>\n",
    "<head>\n",
    "  <!-- Plotly.js -->\n",
    "  <script src=\"https://cdn.plot.ly/plotly-latest.min.js\"></script>\n",
    "  <link rel=\"stylesheet\" href=\"db_1.css\">\n",
    "</head>\n",
    "<body>\n",
    "<div class=\"header\">\n",
    "  <h1>I/O Dashboard</h1>\n",
    "</div>\n",
    "\n",
    "<!-- Plotly chart will be drawn inside this DIV -->\n",
    "<div class=\"row\">\n",
    "<div id=\"graph_1\" class=\"column\" </div>\n",
    "<script src=\"db_1.js\"></script>\n",
    "</div>\n",
    "\n",
    "<div id=\"graph_2\" class=\"column\" </div>\n",
    "<script src=\"db_2.js\"></script>\n",
    "</div>\n",
    "</div>\n",
    "\n",
    "</body>\n",
    "</html>"
   ]
  },
  {
   "cell_type": "code",
   "execution_count": 6,
   "id": "47e1b4db",
   "metadata": {},
   "outputs": [
    {
     "name": "stdout",
     "output_type": "stream",
     "text": [
      "Overwriting db_1.js\n"
     ]
    }
   ],
   "source": [
    "%%writefile db_1.js\n",
    "var trace1 = {\n",
    "type: 'bar',\n",
    "x: [1, 2, 3, 4],\n",
    "y: [5, 10, 2, 8],\n",
    "marker: {\n",
    "      color: '#C8A2C8',\n",
    "      line: {\n",
    "          width: 2.5\n",
    "      }\n",
    "  }\n",
    "};\n",
    "\n",
    "var data = [ trace1 ];\n",
    "\n",
    "var layout = { \n",
    "  title: 'Responsive to window\\'s size!',\n",
    "  font: {size: 18},\n",
    "  autosize: false,\n",
    "  width: 500,\n",
    "  height: 500,\n",
    "  margin: {\n",
    "    l: 50,\n",
    "    r: 50,\n",
    "    b: 100,\n",
    "    t: 100,\n",
    "    pad: 4}\n",
    "};\n",
    "\n",
    "var config = {responsive: true}\n",
    "\n",
    "Plotly.newPlot('graph_1', data, layout, config );"
   ]
  },
  {
   "cell_type": "code",
   "execution_count": 3,
   "id": "05f69946",
   "metadata": {},
   "outputs": [
    {
     "name": "stdout",
     "output_type": "stream",
     "text": [
      "Overwriting db_2.js\n"
     ]
    }
   ],
   "source": [
    "%%writefile db_2.js\n",
    "const rand = () => Math.random();\n",
    "var x = [1, 2, 3, 4, 5];\n",
    "const new_data = (trace) => Object.assign(trace, {y: x.map(rand)});\n",
    "\n",
    "// add random data to three line traces\n",
    "var data = [\n",
    "  {mode:'lines', line: {color: \"#b55400\"}}, \n",
    "  {mode: 'lines', line: {color: \"#393e46\"}},\n",
    "  {mode: 'lines', line: {color: \"#222831\"}}\n",
    "].map(new_data);\n",
    "\n",
    "var layout = {\n",
    "  title: 'User Zoom Persists<br>When uirevision Unchanged',\n",
    "  uirevision:'true',\n",
    "  autosize: false,\n",
    "  width: 500,\n",
    "  height: 500,\n",
    "  margin: {\n",
    "    l: 50,\n",
    "    r: 50,\n",
    "    b: 100,\n",
    "    t: 100,\n",
    "    pad: 4},\n",
    "  xaxis: {autorange: true},\n",
    "  yaxis: {autorange: true}\n",
    "};\n",
    "\n",
    "Plotly.react(graph_2, data, layout);\n",
    "\n",
    "var myPlot = document.getElementById('graph_2');\n",
    "\n",
    "var cnt = 0;\n",
    "var interval = setInterval(function() {\n",
    "  data = data.map(new_data);\n",
    "\n",
    "  // user interation will mutate layout and set autorange to false\n",
    "  // so we need to reset it to true\n",
    "  layout.xaxis.autorange = true;\n",
    "  layout.yaxis.autorange = true;\n",
    "  \n",
    "  // not changing uirevision will ensure that user interactions are unchanged\n",
    "  // layout.uirevision = rand();\n",
    "  \n",
    "  Plotly.react(graph_2, data, layout);\n",
    "  if(cnt === 100) clearInterval(interval);\n",
    "}, 500);\n"
   ]
  },
  {
   "cell_type": "code",
   "execution_count": 16,
   "id": "70d5e12d",
   "metadata": {},
   "outputs": [
    {
     "name": "stdout",
     "output_type": "stream",
     "text": [
      "Overwriting db_1.css\n"
     ]
    }
   ],
   "source": [
    "%%writefile db_1.css\n",
    "<meta name=\"viewport\" content=\"width=device-width, initial-scale=1\">\n",
    "<style>\n",
    "* {\n",
    "  box-sizing: border-box;\n",
    "}\n",
    "\n",
    ".row {\n",
    "  display: flex;\n",
    "}\n",
    "\n",
    ".row:after {\n",
    "  content: \"\";\n",
    "  display: table;\n",
    "  clear: both;\n",
    "}\n",
    "    \n",
    ".column\n",
    "{   \n",
    "    float: left;\n",
    "    width: 30%;\n",
    "    padding: 10px;\n",
    "    height: 300px;\n",
    "}\n",
    "\n",
    "body{\n",
    "    background-color: #FFFFFF\n",
    "}\n",
    "/*remove standard list and bullet formatting from ul*/\n",
    ".columns1 ul\n",
    "{\n",
    "    margin: 20px;\n",
    "    padding: 0;\n",
    "    list-style-type: none;\n",
    "}\n",
    "\n",
    ".header {\n",
    "  padding: 6px;\n",
    "  text-align: center;\n",
    "  background: #1abc9c;\n",
    "  color: white;\n",
    "}\n",
    "\n",
    "/* correct webkit/chrome uneven margin on the first column*/\n",
    "</style>"
   ]
  },
  {
   "cell_type": "code",
   "execution_count": 2,
   "id": "d3c73f87",
   "metadata": {},
   "outputs": [
    {
     "name": "stdout",
     "output_type": "stream",
     "text": [
      "(('8.0.26',),)\n"
     ]
    }
   ],
   "source": [
    "import pymysql\n",
    "\n",
    "def mysqlconnect():\n",
    "\t# To connect MySQL database\n",
    "\tconn = pymysql.connect(\n",
    "\t\thost='localhost',\n",
    "\t\tuser='root',\n",
    "\t\tpassword = \"hasib\",\n",
    "\t\tdb='IO-1',\n",
    "\t\t)\n",
    "\t\n",
    "\tcur = conn.cursor()\n",
    "\tcur.execute(\"select @@version\")\n",
    "\toutput = cur.fetchall()\n",
    "\tprint(output)\n",
    "\t\n",
    "\t# To close the connection\n",
    "\treturn conn#.close()\n",
    "\n",
    "conn = mysqlconnect()"
   ]
  },
  {
   "cell_type": "code",
   "execution_count": 3,
   "id": "28a2e306",
   "metadata": {},
   "outputs": [],
   "source": [
    "curr = conn.cursor()\n",
    "curr.execute(\"INSERT INTO TABLE_1 (`col_1`,`col_2`,`col_3`,`col_4`) VALUES ({}, {} , {} , {} )\".format(1.0,2.0,3.0,4.0))\n",
    "conn.commit()"
   ]
  },
  {
   "cell_type": "code",
   "execution_count": 4,
   "id": "18e07dbe",
   "metadata": {},
   "outputs": [
    {
     "name": "stdout",
     "output_type": "stream",
     "text": [
      "(1, '1.0', 2.0, 3.0, 4.0)\n",
      "(2, '1.0', 2.0, 3.0, 4.0)\n",
      "(3, '1.0', 2.0, 3.0, 4.0)\n",
      "(4, '1', 2.0, 3.0, 4.0)\n",
      "(5, '1.0', 2.0, 3.0, 4.0)\n",
      "(6, '1.0', 2.0, 3.0, 4.0)\n",
      "(7, '1.0', 2.0, 3.0, 4.0)\n",
      "(8, '1.0', 2.0, 3.0, 4.0)\n"
     ]
    }
   ],
   "source": [
    "curr.execute(\"\"\"SELECT * FROM TABLE_1\"\"\")\n",
    "data= curr.fetchall()\n",
    "for tbl in data:\n",
    "    print(tbl)"
   ]
  },
  {
   "cell_type": "code",
   "execution_count": 19,
   "id": "ca669c7a",
   "metadata": {},
   "outputs": [
    {
     "name": "stdout",
     "output_type": "stream",
     "text": [
      "('mysql',)\n",
      "('information_schema',)\n",
      "('performance_schema',)\n",
      "('sys',)\n",
      "('sakila',)\n",
      "('world',)\n",
      "('io-1',)\n"
     ]
    }
   ],
   "source": [
    "def get_schema_names():\n",
    "    curr.execute(\"\"\"SELECT SCHEMA_NAME FROM INFORMATION_SCHEMA.SCHEMATA\"\"\")\n",
    "    data= curr.fetchall()\n",
    "    for tbl in data:\n",
    "        print(tbl)    "
   ]
  },
  {
   "cell_type": "code",
   "execution_count": 20,
   "id": "331415ff",
   "metadata": {},
   "outputs": [
    {
     "name": "stdout",
     "output_type": "stream",
     "text": [
      "('table_1', 'io-1')\n"
     ]
    }
   ],
   "source": [
    "get_table_names()\n",
    "    curr.execute(\"\"\"SELECT TABLE_NAME,TABLE_SCHEMA FROM INFORMATION_SCHEMA.TABLES WHERE TABLE_SCHEMA = 'IO-1'\"\"\")\n",
    "    data= curr.fetchall()\n",
    "    for tbl in data:\n",
    "        print(tbl)"
   ]
  },
  {
   "cell_type": "code",
   "execution_count": 32,
   "id": "bb067fc4",
   "metadata": {},
   "outputs": [
    {
     "name": "stdout",
     "output_type": "stream",
     "text": [
      "('col_1',)\n",
      "('col_2',)\n",
      "('col_3',)\n",
      "('col_4',)\n",
      "('index',)\n"
     ]
    }
   ],
   "source": [
    "curr.execute(\"\"\"SELECT COLUMN_NAME FROM INFORMATION_SCHEMA.COLUMNS WHERE TABLE_NAME = N'TABLE_1'\"\"\")\n",
    "data= curr.fetchall()\n",
    "for tbl in data:\n",
    "    print(tbl)"
   ]
  },
  {
   "cell_type": "code",
   "execution_count": null,
   "id": "8f5a5238",
   "metadata": {},
   "outputs": [],
   "source": []
  }
 ],
 "metadata": {
  "kernelspec": {
   "display_name": "Python 3",
   "language": "python",
   "name": "python3"
  },
  "language_info": {
   "codemirror_mode": {
    "name": "ipython",
    "version": 3
   },
   "file_extension": ".py",
   "mimetype": "text/x-python",
   "name": "python",
   "nbconvert_exporter": "python",
   "pygments_lexer": "ipython3",
   "version": "3.7.7"
  }
 },
 "nbformat": 4,
 "nbformat_minor": 5
}
