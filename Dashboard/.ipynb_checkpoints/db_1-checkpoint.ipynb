{
 "cells": [
  {
   "cell_type": "code",
   "execution_count": 12,
   "id": "aa9d224f",
   "metadata": {},
   "outputs": [
    {
     "name": "stdout",
     "output_type": "stream",
     "text": [
      "Overwriting db_1.html\n"
     ]
    }
   ],
   "source": [
    "%%writefile db_1.html\n",
    "<html>\n",
    "<head>\n",
    "  <!-- Plotly.js -->\n",
    "  <script src=\"https://cdn.plot.ly/plotly-latest.min.js\"></script>\n",
    "  <link rel=\"stylesheet\" href=\"db_1.css\">\n",
    "</head>\n",
    "<body>\n",
    "<!-- Plotly chart will be drawn inside this DIV -->\n",
    "\n",
    "<div id=\"graph_1\" </div>\n",
    "<script src=\"db_1.js\"></script>\n",
    "</div>\n",
    "\n",
    "<div id=\"graph_2\" </div>\n",
    "<script src=\"db_2.js\"></script>\n",
    "</div>\n",
    "\n",
    "</body>\n",
    "</html>"
   ]
  },
  {
   "cell_type": "code",
   "execution_count": 16,
   "id": "b5a06077",
   "metadata": {},
   "outputs": [
    {
     "name": "stdout",
     "output_type": "stream",
     "text": [
      "Overwriting db_1.js\n"
     ]
    }
   ],
   "source": [
    "%%writefile db_1.js\n",
    "var trace1 = {\n",
    "type: 'bar',\n",
    "x: [1, 2, 3, 4],\n",
    "y: [5, 10, 2, 8],\n",
    "marker: {\n",
    "      color: '#C8A2C8',\n",
    "      line: {\n",
    "          width: 2.5\n",
    "      }\n",
    "  }\n",
    "};\n",
    "\n",
    "var data = [ trace1 ];\n",
    "\n",
    "var layout = { \n",
    "  title: 'Responsive to window\\'s size!',\n",
    "  font: {size: 18}\n",
    "  width: 500,\n",
    "  height: 500,\n",
    "  margin: {\n",
    "    l: 50,\n",
    "    r: 50,\n",
    "    b: 100,\n",
    "    t: 100,\n",
    "    pad: 4}\n",
    "};\n",
    "\n",
    "var config = {responsive: true}\n",
    "\n",
    "Plotly.newPlot('graph_1', data, layout, config );"
   ]
  },
  {
   "cell_type": "code",
   "execution_count": 17,
   "id": "4d573d66",
   "metadata": {},
   "outputs": [
    {
     "name": "stdout",
     "output_type": "stream",
     "text": [
      "Overwriting db_2.js\n"
     ]
    }
   ],
   "source": [
    "%%writefile db_2.js\n",
    "const rand = () => Math.random();\n",
    "var x = [1, 2, 3, 4, 5];\n",
    "const new_data = (trace) => Object.assign(trace, {y: x.map(rand)});\n",
    "\n",
    "// add random data to three line traces\n",
    "var data = [\n",
    "  {mode:'lines', line: {color: \"#b55400\"}}, \n",
    "  {mode: 'lines', line: {color: \"#393e46\"}},\n",
    "  {mode: 'lines', line: {color: \"#222831\"}}\n",
    "].map(new_data);\n",
    "\n",
    "var layout = {\n",
    "  title: 'User Zoom Persists<br>When uirevision Unchanged',\n",
    "  uirevision:'true',\n",
    "  autosize: false,\n",
    "  width: 500,\n",
    "  height: 500,\n",
    "  margin: {\n",
    "    l: 50,\n",
    "    r: 50,\n",
    "    b: 100,\n",
    "    t: 100,\n",
    "    pad: 4},\n",
    "  xaxis: {autorange: true},\n",
    "  yaxis: {autorange: true}\n",
    "};\n",
    "\n",
    "Plotly.react(graph_2, data, layout);\n",
    "\n",
    "var myPlot = document.getElementById('graph_2');\n",
    "\n",
    "var cnt = 0;\n",
    "var interval = setInterval(function() {\n",
    "  data = data.map(new_data);\n",
    "\n",
    "  // user interation will mutate layout and set autorange to false\n",
    "  // so we need to reset it to true\n",
    "  layout.xaxis.autorange = true;\n",
    "  layout.yaxis.autorange = true;\n",
    "  \n",
    "  // not changing uirevision will ensure that user interactions are unchanged\n",
    "  // layout.uirevision = rand();\n",
    "  \n",
    "  Plotly.react(graph_2, data, layout);\n",
    "  if(cnt === 100) clearInterval(interval);\n",
    "}, 500);\n"
   ]
  },
  {
   "cell_type": "code",
   "execution_count": 3,
   "id": "2be74cea",
   "metadata": {},
   "outputs": [
    {
     "name": "stdout",
     "output_type": "stream",
     "text": [
      "Writing db_1.css\n"
     ]
    }
   ],
   "source": [
    "%%writefile db_1.css\n",
    "<meta name=\"viewport\" content=\"width=device-width, initial-scale=1\">\n",
    "<style>\n",
    "* {\n",
    "  box-sizing: border-box;\n",
    "}\n",
    "\n",
    ".row {\n",
    "  display: flex;\n",
    "}\n",
    "\n",
    ".column\n",
    "{   \n",
    "    flex: 33.33%;\n",
    "    padding: 5px;\n",
    "    -moz-column-width: 22em; /* Firefox */\n",
    "    -webkit-column-width: 22em; /* webkit, Safari, Chrome */\n",
    "    column-width: 22em;\n",
    "}\n",
    "\n",
    "body{\n",
    "    background-color: #FFFFFF\n",
    "}\n",
    "/*remove standard list and bullet formatting from ul*/\n",
    ".columns1 ul\n",
    "{\n",
    "    margin: 20px;\n",
    "    padding: 0;\n",
    "    list-style-type: none;\n",
    "}\n",
    "/* correct webkit/chrome uneven margin on the first column*/\n",
    "</style>"
   ]
  },
  {
   "cell_type": "code",
   "execution_count": 7,
   "id": "2504ceb1",
   "metadata": {},
   "outputs": [
    {
     "name": "stdout",
     "output_type": "stream",
     "text": [
      "Overwriting db-1.js\n"
     ]
    }
   ],
   "source": []
  },
  {
   "cell_type": "code",
   "execution_count": 9,
   "id": "7baeee5e",
   "metadata": {},
   "outputs": [
    {
     "name": "stdout",
     "output_type": "stream",
     "text": [
      "Overwriting db-2.js\n"
     ]
    }
   ],
   "source": []
  },
  {
   "cell_type": "code",
   "execution_count": null,
   "id": "9d240de8",
   "metadata": {},
   "outputs": [],
   "source": []
  }
 ],
 "metadata": {
  "kernelspec": {
   "display_name": "Python 3",
   "language": "python",
   "name": "python3"
  },
  "language_info": {
   "codemirror_mode": {
    "name": "ipython",
    "version": 3
   },
   "file_extension": ".py",
   "mimetype": "text/x-python",
   "name": "python",
   "nbconvert_exporter": "python",
   "pygments_lexer": "ipython3",
   "version": "3.7.7"
  }
 },
 "nbformat": 4,
 "nbformat_minor": 5
}
