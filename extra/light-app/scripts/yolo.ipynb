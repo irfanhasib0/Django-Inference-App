{
 "cells": [
  {
   "cell_type": "code",
   "execution_count": 1,
   "id": "52f7a6f5-c213-47ab-b86b-30b44cfde9f9",
   "metadata": {},
   "outputs": [
    {
     "name": "stdout",
     "output_type": "stream",
     "text": [
      "Overwriting detect.py\n"
     ]
    }
   ],
   "source": [
    "%%writefile detect.py\n",
    "#importing libraries\n",
    "import socket\n",
    "import cv2\n",
    "import pickle\n",
    "import struct\n",
    "import time\n",
    "\n",
    "def connect():\n",
    "    client_socket = socket.socket(socket.AF_INET,socket.SOCK_STREAM)\n",
    "    host_ip = \"127.0.0.1\"#'192.168.0.10'\n",
    "    port = 10050 \n",
    "    client_socket.connect((host_ip,port)) \n",
    "    return client_socket\n",
    "\n",
    "payload_size = struct.calcsize(\"Q\")\n",
    "ack_msg = struct.pack(\"Q\",1234)\n",
    "while True:\n",
    "    time.sleep(6)\n",
    "    client_socket.sendall(ack_msg)\n",
    "    data = b\"\"\n",
    "    while len(data) < payload_size:\n",
    "        data += client_socket.recv(1024)\n",
    "        \n",
    "    packed_msg_size = data[:payload_size]\n",
    "    data = data[payload_size:]\n",
    "    msg_size = struct.unpack(\"Q\",packed_msg_size)[0]\n",
    "    \n",
    "    while len(data) < msg_size:\n",
    "        data += client_socket.recv(1024)\n",
    "        \n",
    "    frame_data = data[:msg_size]\n",
    "    data  = data[msg_size:]\n",
    "    frame = pickle.loads(frame_data)\n",
    "    #time.sleep(3)\n",
    "    cv2.imshow(\"Receiving...\",frame)\n",
    "    key = cv2.waitKey(10) \n",
    "    if key  == 13:\n",
    "        break\n",
    "client_socket.close()"
   ]
  },
  {
   "cell_type": "code",
   "execution_count": 5,
   "id": "f76e8ae9-c404-4b60-ab63-6a07fe1fd414",
   "metadata": {},
   "outputs": [
    {
     "name": "stdout",
     "output_type": "stream",
     "text": [
      "Requirement already satisfied: tqdm in c:\\users\\irfan\\miniconda3\\envs\\tf-210\\lib\\site-packages (4.62.3)\n",
      "Requirement already satisfied: colorama in c:\\users\\irfan\\miniconda3\\envs\\tf-210\\lib\\site-packages (from tqdm) (0.4.4)\n"
     ]
    },
    {
     "name": "stderr",
     "output_type": "stream",
     "text": [
      "The system cannot find the path specified.\n"
     ]
    }
   ],
   "source": [
    "!pip3 install tqdm"
   ]
  },
  {
   "cell_type": "code",
   "execution_count": null,
   "id": "6d79e510-1dcf-425f-877b-56127cfee2fd",
   "metadata": {},
   "outputs": [],
   "source": []
  }
 ],
 "metadata": {
  "kernelspec": {
   "display_name": "Python 3",
   "language": "python",
   "name": "python3"
  },
  "language_info": {
   "codemirror_mode": {
    "name": "ipython",
    "version": 3
   },
   "file_extension": ".py",
   "mimetype": "text/x-python",
   "name": "python",
   "nbconvert_exporter": "python",
   "pygments_lexer": "ipython3",
   "version": "3.6.9"
  }
 },
 "nbformat": 4,
 "nbformat_minor": 5
}
