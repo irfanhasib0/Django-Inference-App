{
 "cells": [
  {
   "cell_type": "code",
   "execution_count": 1,
   "id": "ae01956f-58ff-4fba-b944-dc5c56df0467",
   "metadata": {},
   "outputs": [
    {
     "name": "stderr",
     "output_type": "stream",
     "text": [
      "ffmpeg version 4.2.4-1ubuntu0.1 Copyright (c) 2000-2020 the FFmpeg developers\n",
      "  built with gcc 9 (Ubuntu 9.3.0-10ubuntu2)\n",
      "  configuration: --prefix=/usr --extra-version=1ubuntu0.1 --toolchain=hardened --libdir=/usr/lib/x86_64-linux-gnu --incdir=/usr/include/x86_64-linux-gnu --arch=amd64 --enable-gpl --disable-stripping --enable-avresample --disable-filter=resample --enable-avisynth --enable-gnutls --enable-ladspa --enable-libaom --enable-libass --enable-libbluray --enable-libbs2b --enable-libcaca --enable-libcdio --enable-libcodec2 --enable-libflite --enable-libfontconfig --enable-libfreetype --enable-libfribidi --enable-libgme --enable-libgsm --enable-libjack --enable-libmp3lame --enable-libmysofa --enable-libopenjpeg --enable-libopenmpt --enable-libopus --enable-libpulse --enable-librsvg --enable-librubberband --enable-libshine --enable-libsnappy --enable-libsoxr --enable-libspeex --enable-libssh --enable-libtheora --enable-libtwolame --enable-libvidstab --enable-libvorbis --enable-libvpx --enable-libwavpack --enable-libwebp --enable-libx265 --enable-libxml2 --enable-libxvid --enable-libzmq --enable-libzvbi --enable-lv2 --enable-omx --enable-openal --enable-opencl --enable-opengl --enable-sdl2 --enable-libdc1394 --enable-libdrm --enable-libiec61883 --enable-nvenc --enable-chromaprint --enable-frei0r --enable-libx264 --enable-shared\n",
      "  libavutil      56. 31.100 / 56. 31.100\n",
      "  libavcodec     58. 54.100 / 58. 54.100\n",
      "  libavformat    58. 29.100 / 58. 29.100\n",
      "  libavdevice    58.  8.100 / 58.  8.100\n",
      "  libavfilter     7. 57.100 /  7. 57.100\n",
      "  libavresample   4.  0.  0 /  4.  0.  0\n",
      "  libswscale      5.  5.100 /  5.  5.100\n",
      "  libswresample   3.  5.100 /  3.  5.100\n",
      "  libpostproc    55.  5.100 / 55.  5.100\n",
      "Input #0, image2pipe, from 'pipe:':\n",
      "  Duration: N/A, bitrate: N/A\n",
      "    Stream #0:0: Video: mjpeg (Baseline), gray(bt470bg/unknown/unknown), 256x256 [SAR 1:1 DAR 1:1], 24 fps, 24 tbr, 24 tbn, 24 tbc\n",
      "Please use -q:a or -q:v, -qscale is ambiguous\n",
      "Stream mapping:\n",
      "  Stream #0:0 -> #0:0 (mjpeg (native) -> mpeg4 (native))\n",
      "Output #0, mp4, to 'video.mp4':\n",
      "  Metadata:\n",
      "    encoder         : Lavf58.29.100\n",
      "    Stream #0:0: Video: mpeg4 (mp4v / 0x7634706D), yuv420p, 256x256 [SAR 1:1 DAR 1:1], q=2-31, 200 kb/s, 24 fps, 12288 tbn, 24 tbc\n",
      "    Metadata:\n",
      "      encoder         : Lavc58.54.100 mpeg4\n",
      "    Side data:\n",
      "      cpb: bitrate max/min/avg: 0/0/200000 buffer size: 0 vbv_delay: -1\n",
      "frame= 2400 fps=523 q=5.0 Lsize=  111298kB time=00:01:39.95 bitrate=9121.3kbits/s speed=21.8x    \n",
      "video:111288kB audio:0kB subtitle:0kB other streams:0kB global headers:0kB muxing overhead: 0.009569%\n"
     ]
    },
    {
     "data": {
      "text/plain": [
       "0"
      ]
     },
     "execution_count": 1,
     "metadata": {},
     "output_type": "execute_result"
    }
   ],
   "source": [
    "#import Image\n",
    "import numpy as np\n",
    "import  cv2\n",
    "from subprocess import Popen, PIPE\n",
    "import io\n",
    "\n",
    "def encode(img):\n",
    "    # encode\n",
    "    is_success, buffer = cv2.imencode(\".jpg\", img)\n",
    "    io_buf = io.BytesIO(buffer)\n",
    "    return io_buf.getbuffer()\n",
    "\n",
    "fps, duration = 24, 100\n",
    "p = Popen(['ffmpeg', '-y', '-f', 'image2pipe', '-vcodec', 'mjpeg', '-r', '24', '-i', '-', '-vcodec', 'mpeg4', '-qscale', '5', '-r', '24', 'video.mp4'], stdin=PIPE)\n",
    "for i in range(fps * duration):\n",
    "    #im = Image.new(\"RGB\", (300, 300), (i, 1, 1))\n",
    "    #im.save(p.stdin, 'JPEG')\n",
    "    img = np.uint8(np.random.random((256,256))*256)\n",
    "    p.stdin.write(encode(img))\n",
    "p.stdin.close()\n",
    "p.wait()"
   ]
  },
  {
   "cell_type": "code",
   "execution_count": 5,
   "id": "d8dec61b-ede1-4e67-aa6c-b837aa29c34d",
   "metadata": {},
   "outputs": [
    {
     "name": "stdout",
     "output_type": "stream",
     "text": [
      "Requirement already satisfied: Image in /usr/local/lib/python3.8/dist-packages (1.5.33)\n",
      "Requirement already satisfied: six in /usr/lib/python3/dist-packages (from Image) (1.14.0)\n",
      "Requirement already satisfied: django in /usr/local/lib/python3.8/dist-packages (from Image) (4.0.4)\n",
      "Requirement already satisfied: pillow in /usr/local/lib/python3.8/dist-packages (from Image) (9.1.0)\n",
      "Requirement already satisfied: sqlparse>=0.2.2 in /usr/local/lib/python3.8/dist-packages (from django->Image) (0.4.2)\n",
      "Requirement already satisfied: asgiref<4,>=3.4.1 in /usr/local/lib/python3.8/dist-packages (from django->Image) (3.5.1)\n",
      "Requirement already satisfied: backports.zoneinfo in /usr/local/lib/python3.8/dist-packages (from django->Image) (0.2.1)\n",
      "\u001b[33mWARNING: Running pip as the 'root' user can result in broken permissions and conflicting behaviour with the system package manager. It is recommended to use a virtual environment instead: https://pip.pypa.io/warnings/venv\u001b[0m\u001b[33m\n",
      "\u001b[0mNote: you may need to restart the kernel to use updated packages.\n"
     ]
    }
   ],
   "source": [
    "ffmpeg -re -i ~/Movies/video.mp4 -bsf:v h264_mp4toannexb -c copy -f mpegts http://127.0.0.1:9006/publish/sintel"
   ]
  },
  {
   "cell_type": "code",
   "execution_count": null,
   "id": "b55886c8-3097-4e13-b60c-723d50bcaac2",
   "metadata": {},
   "outputs": [],
   "source": []
  },
  {
   "cell_type": "code",
   "execution_count": 2,
   "id": "0e700301-6a16-4b32-b9ee-94f4241525da",
   "metadata": {},
   "outputs": [
    {
     "ename": "NameError",
     "evalue": "name 'cv2' is not defined",
     "output_type": "error",
     "traceback": [
      "\u001b[0;31m---------------------------------------------------------------------------\u001b[0m",
      "\u001b[0;31mNameError\u001b[0m                                 Traceback (most recent call last)",
      "Input \u001b[0;32mIn [2]\u001b[0m, in \u001b[0;36m<cell line: 8>\u001b[0;34m()\u001b[0m\n\u001b[1;32m      5\u001b[0m     \u001b[38;5;28;01mreturn\u001b[39;00m io_buf\n\u001b[1;32m      7\u001b[0m \u001b[38;5;66;03m# decode\u001b[39;00m\n\u001b[0;32m----> 8\u001b[0m decode_img \u001b[38;5;241m=\u001b[39m \u001b[43mcv2\u001b[49m\u001b[38;5;241m.\u001b[39mimdecode(np\u001b[38;5;241m.\u001b[39mfrombuffer(io_buf\u001b[38;5;241m.\u001b[39mgetbuffer(), np\u001b[38;5;241m.\u001b[39muint8), \u001b[38;5;241m-\u001b[39m\u001b[38;5;241m1\u001b[39m)\n\u001b[1;32m     10\u001b[0m \u001b[38;5;28mprint\u001b[39m(np\u001b[38;5;241m.\u001b[39mallclose(img, decode_img))\n",
      "\u001b[0;31mNameError\u001b[0m: name 'cv2' is not defined"
     ]
    }
   ],
   "source": [
    "\n",
    "\n",
    "# decode\n",
    "decode_img = cv2.imdecode(np.frombuffer(io_buf.getbuffer(), np.uint8), -1)\n",
    "\n",
    "print(np.allclose(img, decode_img))   # True"
   ]
  },
  {
   "cell_type": "code",
   "execution_count": null,
   "id": "220c4e89-3896-4508-b851-6032587fb5ab",
   "metadata": {},
   "outputs": [],
   "source": []
  }
 ],
 "metadata": {
  "kernelspec": {
   "display_name": "Python 3 (ipykernel)",
   "language": "python",
   "name": "python3"
  },
  "language_info": {
   "codemirror_mode": {
    "name": "ipython",
    "version": 3
   },
   "file_extension": ".py",
   "mimetype": "text/x-python",
   "name": "python",
   "nbconvert_exporter": "python",
   "pygments_lexer": "ipython3",
   "version": "3.8.10"
  }
 },
 "nbformat": 4,
 "nbformat_minor": 5
}
