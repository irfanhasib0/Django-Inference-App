{
 "cells": [
  {
   "cell_type": "code",
   "execution_count": 1,
   "id": "ae01956f-58ff-4fba-b944-dc5c56df0467",
   "metadata": {},
   "outputs": [
    {
     "name": "stderr",
     "output_type": "stream",
     "text": [
      "ffmpeg version 4.2.4-1ubuntu0.1 Copyright (c) 2000-2020 the FFmpeg developers\n",
      "  built with gcc 9 (Ubuntu 9.3.0-10ubuntu2)\n",
      "  configuration: --prefix=/usr --extra-version=1ubuntu0.1 --toolchain=hardened --libdir=/usr/lib/x86_64-linux-gnu --incdir=/usr/include/x86_64-linux-gnu --arch=amd64 --enable-gpl --disable-stripping --enable-avresample --disable-filter=resample --enable-avisynth --enable-gnutls --enable-ladspa --enable-libaom --enable-libass --enable-libbluray --enable-libbs2b --enable-libcaca --enable-libcdio --enable-libcodec2 --enable-libflite --enable-libfontconfig --enable-libfreetype --enable-libfribidi --enable-libgme --enable-libgsm --enable-libjack --enable-libmp3lame --enable-libmysofa --enable-libopenjpeg --enable-libopenmpt --enable-libopus --enable-libpulse --enable-librsvg --enable-librubberband --enable-libshine --enable-libsnappy --enable-libsoxr --enable-libspeex --enable-libssh --enable-libtheora --enable-libtwolame --enable-libvidstab --enable-libvorbis --enable-libvpx --enable-libwavpack --enable-libwebp --enable-libx265 --enable-libxml2 --enable-libxvid --enable-libzmq --enable-libzvbi --enable-lv2 --enable-omx --enable-openal --enable-opencl --enable-opengl --enable-sdl2 --enable-libdc1394 --enable-libdrm --enable-libiec61883 --enable-nvenc --enable-chromaprint --enable-frei0r --enable-libx264 --enable-shared\n",
      "  libavutil      56. 31.100 / 56. 31.100\n",
      "  libavcodec     58. 54.100 / 58. 54.100\n",
      "  libavformat    58. 29.100 / 58. 29.100\n",
      "  libavdevice    58.  8.100 / 58.  8.100\n",
      "  libavfilter     7. 57.100 /  7. 57.100\n",
      "  libavresample   4.  0.  0 /  4.  0.  0\n",
      "  libswscale      5.  5.100 /  5.  5.100\n",
      "  libswresample   3.  5.100 /  3.  5.100\n",
      "  libpostproc    55.  5.100 / 55.  5.100\n",
      "Input #0, image2pipe, from 'pipe:':\n",
      "  Duration: N/A, bitrate: N/A\n",
      "    Stream #0:0: Video: mjpeg (Baseline), gray(bt470bg/unknown/unknown), 256x256 [SAR 1:1 DAR 1:1], 24 fps, 24 tbr, 24 tbn, 24 tbc\n",
      "Please use -q:a or -q:v, -qscale is ambiguous\n",
      "Stream mapping:\n",
      "  Stream #0:0 -> #0:0 (mjpeg (native) -> mpeg4 (native))\n",
      "Output #0, mp4, to 'video.mp4':\n",
      "  Metadata:\n",
      "    encoder         : Lavf58.29.100\n",
      "    Stream #0:0: Video: mpeg4 (mp4v / 0x7634706D), yuv420p, 256x256 [SAR 1:1 DAR 1:1], q=2-31, 200 kb/s, 24 fps, 12288 tbn, 24 tbc\n",
      "    Metadata:\n",
      "      encoder         : Lavc58.54.100 mpeg4\n",
      "    Side data:\n",
      "      cpb: bitrate max/min/avg: 0/0/200000 buffer size: 0 vbv_delay: -1\n",
      "frame= 2400 fps=523 q=5.0 Lsize=  111298kB time=00:01:39.95 bitrate=9121.3kbits/s speed=21.8x    \n",
      "video:111288kB audio:0kB subtitle:0kB other streams:0kB global headers:0kB muxing overhead: 0.009569%\n"
     ]
    },
    {
     "data": {
      "text/plain": [
       "0"
      ]
     },
     "execution_count": 1,
     "metadata": {},
     "output_type": "execute_result"
    }
   ],
   "source": [
    "#import Image\n",
    "import numpy as np\n",
    "import  cv2\n",
    "from subprocess import Popen, PIPE\n",
    "import io\n",
    "\n",
    "def encode(img):\n",
    "    # encode\n",
    "    is_success, buffer = cv2.imencode(\".jpg\", img)\n",
    "    io_buf = io.BytesIO(buffer)\n",
    "    return io_buf.getbuffer()\n",
    "\n",
    "fps, duration = 24, 100\n",
    "p = Popen(['ffmpeg', '-y', '-f', 'image2pipe', '-vcodec', 'mjpeg', '-r', '24', '-i', '-', '-vcodec', 'mpeg4', '-qscale', '5', '-r', '24', 'video.mp4'], stdin=PIPE)\n",
    "for i in range(fps * duration):\n",
    "    #im = Image.new(\"RGB\", (300, 300), (i, 1, 1))\n",
    "    #im.save(p.stdin, 'JPEG')\n",
    "    img = np.uint8(np.random.random((256,256))*256)\n",
    "    p.stdin.write(encode(img))\n",
    "p.stdin.close()\n",
    "p.wait()"
   ]
  },
  {
   "cell_type": "code",
   "execution_count": null,
   "id": "5edfe1fe-6f70-4bdc-a6bf-855fca428a4a",
   "metadata": {
    "scrolled": true,
    "tags": []
   },
   "outputs": [
    {
     "name": "stderr",
     "output_type": "stream",
     "text": [
      "ffmpeg version 4.2.4-1ubuntu0.1 Copyright (c) 2000-2020 the FFmpeg developers\n",
      "  built with gcc 9 (Ubuntu 9.3.0-10ubuntu2)\n",
      "  configuration: --prefix=/usr --extra-version=1ubuntu0.1 --toolchain=hardened --libdir=/usr/lib/x86_64-linux-gnu --incdir=/usr/include/x86_64-linux-gnu --arch=amd64 --enable-gpl --disable-stripping --enable-avresample --disable-filter=resample --enable-avisynth --enable-gnutls --enable-ladspa --enable-libaom --enable-libass --enable-libbluray --enable-libbs2b --enable-libcaca --enable-libcdio --enable-libcodec2 --enable-libflite --enable-libfontconfig --enable-libfreetype --enable-libfribidi --enable-libgme --enable-libgsm --enable-libjack --enable-libmp3lame --enable-libmysofa --enable-libopenjpeg --enable-libopenmpt --enable-libopus --enable-libpulse --enable-librsvg --enable-librubberband --enable-libshine --enable-libsnappy --enable-libsoxr --enable-libspeex --enable-libssh --enable-libtheora --enable-libtwolame --enable-libvidstab --enable-libvorbis --enable-libvpx --enable-libwavpack --enable-libwebp --enable-libx265 --enable-libxml2 --enable-libxvid --enable-libzmq --enable-libzvbi --enable-lv2 --enable-omx --enable-openal --enable-opencl --enable-opengl --enable-sdl2 --enable-libdc1394 --enable-libdrm --enable-libiec61883 --enable-nvenc --enable-chromaprint --enable-frei0r --enable-libx264 --enable-shared\n",
      "  libavutil      56. 31.100 / 56. 31.100\n",
      "  libavcodec     58. 54.100 / 58. 54.100\n",
      "  libavformat    58. 29.100 / 58. 29.100\n",
      "  libavdevice    58.  8.100 / 58.  8.100\n",
      "  libavfilter     7. 57.100 /  7. 57.100\n",
      "  libavresample   4.  0.  0 /  4.  0.  0\n",
      "  libswscale      5.  5.100 /  5.  5.100\n",
      "  libswresample   3.  5.100 /  3.  5.100\n",
      "  libpostproc    55.  5.100 / 55.  5.100\n",
      "Input #0, rawvideo, from 'pipe:':\n",
      "  Duration: N/A, start: 0.000000, bitrate: 96000 kb/s\n",
      "    Stream #0:0: Video: rawvideo (BGR[24] / 0x18524742), bgr24, 400x400, 96000 kb/s, 25 tbr, 25 tbn, 25 tbc\n",
      "Stream mapping:\n",
      "  Stream #0:0 -> #0:0 (rawvideo (native) -> h264 (libx264))\n",
      "[libx264 @ 0x5626961beb80] using cpu capabilities: MMX2 SSE2Fast SSSE3 SSE4.2 AVX FMA3 BMI2 AVX2\n",
      "[libx264 @ 0x5626961beb80] profile Constrained Baseline, level 2.1\n",
      "[libx264 @ 0x5626961beb80] 264 - core 155 r2917 0a84d98 - H.264/MPEG-4 AVC codec - Copyleft 2003-2018 - http://www.videolan.org/x264.html - options: cabac=0 ref=1 deblock=0:0:0 analyse=0:0 me=dia subme=0 psy=1 psy_rd=1.00:0.00 mixed_ref=0 me_range=16 chroma_me=1 trellis=1 8x8dct=0 cqm=0 deadzone=21,11 fast_pskip=1 chroma_qp_offset=0 threads=12 lookahead_threads=2 sliced_threads=0 nr=0 decimate=1 interlaced=0 bluray_compat=0 constrained_intra=0 bframes=0 weightp=0 keyint=250 keyint_min=25 scenecut=0 intra_refresh=0 rc=crf mbtree=0 crf=23.0 qcomp=0.60 qpmin=0 qpmax=69 qpstep=4 ip_ratio=1.40 aq=0\n",
      "Output #0, flv, to 'rtmp://cvat_proxy/hls/stream':\n",
      "  Metadata:\n",
      "    encoder         : Lavf58.29.100\n",
      "    Stream #0:0: Video: h264 (libx264) ([7][0][0][0] / 0x0007), yuv420p, 400x400, q=-1--1, 25 fps, 1k tbn, 25 tbc\n",
      "    Metadata:\n",
      "      encoder         : Lavc58.54.100 libx264\n",
      "    Side data:\n",
      "      cpb: bitrate max/min/avg: 0/0/0 buffer size: 0 vbv_delay: -1\n",
      "frame= 9835 fps= 83 q=32.0 size=  842443kB time=00:06:32.84 bitrate=17567.6kbits/s speed= 3.3x    \r"
     ]
    }
   ],
   "source": [
    "#import Image\n",
    "import numpy as np\n",
    "import  cv2\n",
    "from subprocess import Popen, PIPE\n",
    "import io\n",
    "import os\n",
    "\n",
    "def encode(img):\n",
    "    # encode\n",
    "    is_success, buffer = cv2.imencode(\".jpg\", img)\n",
    "    io_buf = io.BytesIO(buffer)\n",
    "    return io_buf.getbuffer()\n",
    "\n",
    "fps, duration = 24, 100\n",
    "h,w = 256,256\n",
    "sizeStr = str(h) + 'x' + str(w)\n",
    "rtmp_url = 'rtmp://cvat_proxy/hls/stream'\n",
    "command = ['ffmpeg',\n",
    "'-y', '-an',\n",
    "'-f', 'rawvideo',\n",
    "'-vcodec', 'rawvideo',\n",
    "'-pix_fmt', 'bgr24',\n",
    "'-s', sizeStr,\n",
    "'-r', '25',\n",
    "'-i', '-',\n",
    "'-c:v', 'libx264',\n",
    "'-pix_fmt', 'yuv420p',\n",
    "'-preset', 'ultrafast',\n",
    "'-f', 'flv',\n",
    "rtmp_url]\n",
    "p2 = Popen(command,shell=False,stdin=PIPE)\n",
    "while 1:\n",
    "    img = np.uint8(np.random.random((h,w))*256)\n",
    "    p2.stdin.write(encode(img))\n",
    "    #p1.stdin.close()\n",
    "    #p1.wait()\n",
    "    #os.system('ffmpeg -re -i abc.mp4 -vcodec libx264 -vprofile baseline -g 30 -acodec aac -strict -2 -f flv -vf scale=400:400 rtmp://cvat_proxy/hls/stream')\n",
    "    #print('one step ...')\n",
    "    #p2.stdin.write(p1.stdout.read())\n",
    "        \n",
    "p.stdin.close()\n",
    "p.wait()"
   ]
  },
  {
   "cell_type": "code",
   "execution_count": 2,
   "id": "7ce34520-47c9-4062-aa74-7527e0417697",
   "metadata": {
    "scrolled": true,
    "tags": []
   },
   "outputs": [
    {
     "name": "stderr",
     "output_type": "stream",
     "text": [
      "ffmpeg version 4.2.4-1ubuntu0.1 Copyright (c) 2000-2020 the FFmpeg developers\n",
      "  built with gcc 9 (Ubuntu 9.3.0-10ubuntu2)\n",
      "  configuration: --prefix=/usr --extra-version=1ubuntu0.1 --toolchain=hardened --libdir=/usr/lib/x86_64-linux-gnu --incdir=/usr/include/x86_64-linux-gnu --arch=amd64 --enable-gpl --disable-stripping --enable-avresample --disable-filter=resample --enable-avisynth --enable-gnutls --enable-ladspa --enable-libaom --enable-libass --enable-libbluray --enable-libbs2b --enable-libcaca --enable-libcdio --enable-libcodec2 --enable-libflite --enable-libfontconfig --enable-libfreetype --enable-libfribidi --enable-libgme --enable-libgsm --enable-libjack --enable-libmp3lame --enable-libmysofa --enable-libopenjpeg --enable-libopenmpt --enable-libopus --enable-libpulse --enable-librsvg --enable-librubberband --enable-libshine --enable-libsnappy --enable-libsoxr --enable-libspeex --enable-libssh --enable-libtheora --enable-libtwolame --enable-libvidstab --enable-libvorbis --enable-libvpx --enable-libwavpack --enable-libwebp --enable-libx265 --enable-libxml2 --enable-libxvid --enable-libzmq --enable-libzvbi --enable-lv2 --enable-omx --enable-openal --enable-opencl --enable-opengl --enable-sdl2 --enable-libdc1394 --enable-libdrm --enable-libiec61883 --enable-nvenc --enable-chromaprint --enable-frei0r --enable-libx264 --enable-shared\n",
      "  libavutil      56. 31.100 / 56. 31.100\n",
      "  libavcodec     58. 54.100 / 58. 54.100\n",
      "  libavformat    58. 29.100 / 58. 29.100\n",
      "  libavdevice    58.  8.100 / 58.  8.100\n",
      "  libavfilter     7. 57.100 /  7. 57.100\n",
      "  libavresample   4.  0.  0 /  4.  0.  0\n",
      "  libswscale      5.  5.100 /  5.  5.100\n",
      "  libswresample   3.  5.100 /  3.  5.100\n",
      "  libpostproc    55.  5.100 / 55.  5.100\n"
     ]
    }
   ],
   "source": [
    "from subprocess import Popen, PIPE\n",
    "p2 = Popen(['ffmpeg', '-re', '-i', 'pipe:0', '-vcodec', 'libx264', '-vprofile', 'baseline', '-g', '30', '-acodec', 'aac', '-strict', '-2', '-f', 'flv', '-vf', 'scale=400:400', 'rtmp://cvat_proxy/hls/stream'], stdin=PIPE)"
   ]
  },
  {
   "cell_type": "code",
   "execution_count": 2,
   "id": "483323a2-17e5-4f6c-b83f-1e0e340f89ea",
   "metadata": {},
   "outputs": [
    {
     "name": "stdout",
     "output_type": "stream",
     "text": [
      "...\n"
     ]
    },
    {
     "name": "stderr",
     "output_type": "stream",
     "text": [
      "frame= 2376 fps= 25 q=28.0 size=    7586kB time=00:01:35.36 bitrate= 651.6kbits/s speed=0.999x    \r"
     ]
    }
   ],
   "source": [
    "print('...')"
   ]
  },
  {
   "cell_type": "code",
   "execution_count": 3,
   "id": "b2e027e8-5ebe-448d-b196-540e2ac9c128",
   "metadata": {
    "scrolled": true,
    "tags": []
   },
   "outputs": [
    {
     "name": "stderr",
     "output_type": "stream",
     "text": [
      "Input #0, mov,mp4,m4a,3gp,3g2,mj2, from 'pipe:0':\n",
      "  Metadata:\n",
      "    major_brand     : mp42\n",
      "    minor_version   : 0\n",
      "    compatible_brands: isommp42\n",
      "    creation_time   : 2021-01-31T21:32:54.000000Z\n",
      "  Duration: 00:05:34.02, start: 0.000000, bitrate: N/A\n",
      "    Stream #0:0(und): Video: h264 (Main) (avc1 / 0x31637661), yuv420p(tv, bt709), 1280x720 [SAR 1:1 DAR 16:9], 376 kb/s, 25 fps, 25 tbr, 12800 tbn, 50 tbc (default)\n",
      "    Metadata:\n",
      "      creation_time   : 2021-01-31T21:32:54.000000Z\n",
      "      handler_name    : ISO Media file produced by Google Inc. Created on: 01/31/2021.\n",
      "    Stream #0:1(eng): Audio: aac (LC) (mp4a / 0x6134706D), 44100 Hz, stereo, fltp, 127 kb/s (default)\n",
      "    Metadata:\n",
      "      creation_time   : 2021-01-31T21:32:54.000000Z\n",
      "      handler_name    : ISO Media file produced by Google Inc. Created on: 01/31/2021.\n",
      "Stream mapping:\n",
      "  Stream #0:0 -> #0:0 (h264 (native) -> h264 (libx264))\n",
      "  Stream #0:1 -> #0:1 (aac (native) -> aac (native))\n",
      "[libx264 @ 0x563ace625880] using SAR=16/9\n",
      "[libx264 @ 0x563ace625880] using cpu capabilities: MMX2 SSE2Fast SSSE3 SSE4.2 AVX FMA3 BMI2 AVX2\n",
      "[libx264 @ 0x563ace625880] profile Constrained Baseline, level 2.1\n",
      "[libx264 @ 0x563ace625880] 264 - core 155 r2917 0a84d98 - H.264/MPEG-4 AVC codec - Copyleft 2003-2018 - http://www.videolan.org/x264.html - options: cabac=0 ref=3 deblock=1:0:0 analyse=0x1:0x111 me=hex subme=7 psy=1 psy_rd=1.00:0.00 mixed_ref=1 me_range=16 chroma_me=1 trellis=1 8x8dct=0 cqm=0 deadzone=21,11 fast_pskip=1 chroma_qp_offset=-2 threads=12 lookahead_threads=2 sliced_threads=0 nr=0 decimate=1 interlaced=0 bluray_compat=0 constrained_intra=0 bframes=0 weightp=0 keyint=30 keyint_min=3 scenecut=40 intra_refresh=0 rc_lookahead=30 rc=crf mbtree=1 crf=23.0 qcomp=0.60 qpmin=0 qpmax=69 qpstep=4 ip_ratio=1.40 aq=1:1.00\n",
      "Output #0, flv, to 'rtmp://cvat_proxy/hls/stream':\n",
      "  Metadata:\n",
      "    major_brand     : mp42\n",
      "    minor_version   : 0\n",
      "    compatible_brands: isommp42\n",
      "    encoder         : Lavf58.29.100\n",
      "    Stream #0:0(und): Video: h264 (libx264) ([7][0][0][0] / 0x0007), yuv420p, 400x400 [SAR 16:9 DAR 16:9], q=-1--1, 25 fps, 1k tbn, 25 tbc (default)\n",
      "    Metadata:\n",
      "      creation_time   : 2021-01-31T21:32:54.000000Z\n",
      "      handler_name    : ISO Media file produced by Google Inc. Created on: 01/31/2021.\n",
      "      encoder         : Lavc58.54.100 libx264\n",
      "    Side data:\n",
      "      cpb: bitrate max/min/avg: 0/0/0 buffer size: 0 vbv_delay: -1\n",
      "    Stream #0:1(eng): Audio: aac (LC) ([10][0][0][0] / 0x000A), 44100 Hz, stereo, fltp, 128 kb/s (default)\n",
      "    Metadata:\n",
      "      creation_time   : 2021-01-31T21:32:54.000000Z\n",
      "      handler_name    : ISO Media file produced by Google Inc. Created on: 01/31/2021.\n",
      "      encoder         : Lavc58.54.100 aac\n",
      "[flv @ 0x563ace627500] Failed to update header with correct duration.653.9kbits/s speed=0.999x    \n",
      "[flv @ 0x563ace627500] Failed to update header with correct filesize.\n",
      "frame= 3712 fps= 25 q=-1.0 Lsize=   11955kB time=00:02:28.81 bitrate= 658.1kbits/s speed=0.999x    \n",
      "video:9440kB audio:2336kB subtitle:0kB other streams:0kB global headers:0kB muxing overhead: 1.523469%\n",
      "[libx264 @ 0x563ace625880] frame I:147   Avg QP:19.81  size: 19359\n",
      "[libx264 @ 0x563ace625880] frame P:3565  Avg QP:23.73  size:  1913\n",
      "[libx264 @ 0x563ace625880] mb I  I16..4: 25.8%  0.0% 74.2%\n",
      "[libx264 @ 0x563ace625880] mb P  I16..4:  2.7%  0.0%  0.5%  P16..4: 34.1%  9.7%  4.1%  0.0%  0.0%    skip:48.9%\n",
      "[libx264 @ 0x563ace625880] coded y,uvDC,uvAC intra: 45.6% 48.8% 23.6% inter: 13.1% 7.4% 0.5%\n",
      "[libx264 @ 0x563ace625880] i16 v,h,dc,p: 58% 16% 11% 16%\n",
      "[libx264 @ 0x563ace625880] i4 v,h,dc,ddl,ddr,vr,hd,vl,hu: 36% 15% 14%  5%  6%  9%  4%  7%  4%\n",
      "[libx264 @ 0x563ace625880] i8c dc,h,v,p: 63% 13% 21%  3%\n",
      "[libx264 @ 0x563ace625880] ref P L0: 68.4% 17.1% 14.6%\n",
      "[libx264 @ 0x563ace625880] kb/s:520.80\n",
      "[aac @ 0x563ace6166c0] Qavg: 374.959\n",
      "Exiting normally, received signal 2.\n"
     ]
    },
    {
     "ename": "KeyboardInterrupt",
     "evalue": "",
     "output_type": "error",
     "traceback": [
      "\u001b[0;31m---------------------------------------------------------------------------\u001b[0m",
      "\u001b[0;31mKeyboardInterrupt\u001b[0m                         Traceback (most recent call last)",
      "Input \u001b[0;32mIn [3]\u001b[0m, in \u001b[0;36m<cell line: 1>\u001b[0;34m()\u001b[0m\n\u001b[1;32m      1\u001b[0m \u001b[38;5;28;01mwith\u001b[39;00m \u001b[38;5;28mopen\u001b[39m(\u001b[38;5;124m'\u001b[39m\u001b[38;5;124m/webapp/media/video.mp4\u001b[39m\u001b[38;5;124m'\u001b[39m,\u001b[38;5;124m'\u001b[39m\u001b[38;5;124mrb\u001b[39m\u001b[38;5;124m'\u001b[39m) \u001b[38;5;28;01mas\u001b[39;00m file:\n\u001b[0;32m----> 2\u001b[0m     \u001b[43mp2\u001b[49m\u001b[38;5;241;43m.\u001b[39;49m\u001b[43mstdin\u001b[49m\u001b[38;5;241;43m.\u001b[39;49m\u001b[43mwrite\u001b[49m\u001b[43m(\u001b[49m\u001b[43mfile\u001b[49m\u001b[38;5;241;43m.\u001b[39;49m\u001b[43mread\u001b[49m\u001b[43m(\u001b[49m\u001b[43m)\u001b[49m\u001b[43m)\u001b[49m\n",
      "\u001b[0;31mKeyboardInterrupt\u001b[0m: "
     ]
    }
   ],
   "source": [
    "with open('/webapp/media/video.mp4','rb') as file:\n",
    "    p2.stdin.write(file.read())"
   ]
  },
  {
   "cell_type": "code",
   "execution_count": 4,
   "id": "dbec80d8-f947-4fe2-b7db-5a60aa822cc0",
   "metadata": {},
   "outputs": [
    {
     "data": {
      "text/plain": [
       "{'_waitpid_lock': <unlocked _thread.lock object at 0x7fe1ea2a19f0>,\n",
       " '_input': None,\n",
       " '_communication_started': False,\n",
       " 'args': ['ffmpeg',\n",
       "  '-re',\n",
       "  '-i',\n",
       "  'pipe:0',\n",
       "  '-vcodec',\n",
       "  'libx264',\n",
       "  '-vprofile',\n",
       "  'baseline',\n",
       "  '-g',\n",
       "  '30',\n",
       "  '-acodec',\n",
       "  'aac',\n",
       "  '-strict',\n",
       "  '-2',\n",
       "  '-f',\n",
       "  'flv',\n",
       "  '-vf',\n",
       "  'scale=400:400',\n",
       "  'rtmp://cvat_proxy/hls/stream'],\n",
       " 'stdin': <_io.BufferedWriter name=61>,\n",
       " 'stdout': None,\n",
       " 'stderr': None,\n",
       " 'pid': 325,\n",
       " 'returncode': None,\n",
       " 'encoding': None,\n",
       " 'errors': None,\n",
       " 'text_mode': None,\n",
       " '_sigint_wait_secs': 0.25,\n",
       " '_closed_child_pipe_fds': True,\n",
       " '_child_created': True}"
      ]
     },
     "execution_count": 4,
     "metadata": {},
     "output_type": "execute_result"
    }
   ],
   "source": [
    "p2.__dict__"
   ]
  },
  {
   "cell_type": "code",
   "execution_count": 5,
   "id": "d8dec61b-ede1-4e67-aa6c-b837aa29c34d",
   "metadata": {},
   "outputs": [
    {
     "name": "stdout",
     "output_type": "stream",
     "text": [
      "Requirement already satisfied: Image in /usr/local/lib/python3.8/dist-packages (1.5.33)\n",
      "Requirement already satisfied: six in /usr/lib/python3/dist-packages (from Image) (1.14.0)\n",
      "Requirement already satisfied: django in /usr/local/lib/python3.8/dist-packages (from Image) (4.0.4)\n",
      "Requirement already satisfied: pillow in /usr/local/lib/python3.8/dist-packages (from Image) (9.1.0)\n",
      "Requirement already satisfied: sqlparse>=0.2.2 in /usr/local/lib/python3.8/dist-packages (from django->Image) (0.4.2)\n",
      "Requirement already satisfied: asgiref<4,>=3.4.1 in /usr/local/lib/python3.8/dist-packages (from django->Image) (3.5.1)\n",
      "Requirement already satisfied: backports.zoneinfo in /usr/local/lib/python3.8/dist-packages (from django->Image) (0.2.1)\n",
      "\u001b[33mWARNING: Running pip as the 'root' user can result in broken permissions and conflicting behaviour with the system package manager. It is recommended to use a virtual environment instead: https://pip.pypa.io/warnings/venv\u001b[0m\u001b[33m\n",
      "\u001b[0mNote: you may need to restart the kernel to use updated packages.\n"
     ]
    }
   ],
   "source": [
    "ffmpeg -re -i ~/Movies/video.mp4 -bsf:v h264_mp4toannexb -c copy -f mpegts http://127.0.0.1:9006/publish/sintel"
   ]
  },
  {
   "cell_type": "code",
   "execution_count": null,
   "id": "b55886c8-3097-4e13-b60c-723d50bcaac2",
   "metadata": {},
   "outputs": [],
   "source": [
    "VIDEO_URL = WEBURL + \"live/amba.m3u8\"\n",
    "\n",
    "cv2.namedWindow(\"GoPro\",cv2.CV_WINDOW_AUTOSIZE)\n",
    "\n",
    "pipe = sp.Popen([ FFMPEG_BIN, \"-i\", VIDEO_URL,\n",
    "           \"-loglevel\", \"quiet\", # no text output\n",
    "           \"-an\",   # disable audio\n",
    "           \"-f\", \"image2pipe\",\n",
    "           \"-pix_fmt\", \"bgr24\",\n",
    "           \"-vcodec\", \"rawvideo\", \"-\"],\n",
    "           stdin = sp.PIPE, stdout = sp.PIPE)\n",
    "while True:\n",
    "    raw_image = pipe.stdout.read(432*240*3) # read 432*240*3 bytes (= 1 frame)\n",
    "    image =  numpy.fromstring(raw_image, dtype='uint8').reshape((240,432,3))\n",
    "    cv2.imshow(\"GoPro\",image)\n",
    "    if cv2.waitKey(5) == 27:\n",
    "        break\n",
    "cv2.destroyAllWindows()"
   ]
  },
  {
   "cell_type": "code",
   "execution_count": 2,
   "id": "0e700301-6a16-4b32-b9ee-94f4241525da",
   "metadata": {},
   "outputs": [
    {
     "ename": "NameError",
     "evalue": "name 'cv2' is not defined",
     "output_type": "error",
     "traceback": [
      "\u001b[0;31m---------------------------------------------------------------------------\u001b[0m",
      "\u001b[0;31mNameError\u001b[0m                                 Traceback (most recent call last)",
      "Input \u001b[0;32mIn [2]\u001b[0m, in \u001b[0;36m<cell line: 8>\u001b[0;34m()\u001b[0m\n\u001b[1;32m      5\u001b[0m     \u001b[38;5;28;01mreturn\u001b[39;00m io_buf\n\u001b[1;32m      7\u001b[0m \u001b[38;5;66;03m# decode\u001b[39;00m\n\u001b[0;32m----> 8\u001b[0m decode_img \u001b[38;5;241m=\u001b[39m \u001b[43mcv2\u001b[49m\u001b[38;5;241m.\u001b[39mimdecode(np\u001b[38;5;241m.\u001b[39mfrombuffer(io_buf\u001b[38;5;241m.\u001b[39mgetbuffer(), np\u001b[38;5;241m.\u001b[39muint8), \u001b[38;5;241m-\u001b[39m\u001b[38;5;241m1\u001b[39m)\n\u001b[1;32m     10\u001b[0m \u001b[38;5;28mprint\u001b[39m(np\u001b[38;5;241m.\u001b[39mallclose(img, decode_img))\n",
      "\u001b[0;31mNameError\u001b[0m: name 'cv2' is not defined"
     ]
    }
   ],
   "source": [
    "\n",
    "\n",
    "# decode\n",
    "decode_img = cv2.imdecode(np.frombuffer(io_buf.getbuffer(), np.uint8), -1)\n",
    "\n",
    "print(np.allclose(img, decode_img))   # True"
   ]
  },
  {
   "cell_type": "code",
   "execution_count": null,
   "id": "220c4e89-3896-4508-b851-6032587fb5ab",
   "metadata": {},
   "outputs": [],
   "source": []
  }
 ],
 "metadata": {
  "kernelspec": {
   "display_name": "Python 3 (ipykernel)",
   "language": "python",
   "name": "python3"
  },
  "language_info": {
   "codemirror_mode": {
    "name": "ipython",
    "version": 3
   },
   "file_extension": ".py",
   "mimetype": "text/x-python",
   "name": "python",
   "nbconvert_exporter": "python",
   "pygments_lexer": "ipython3",
   "version": "3.8.10"
  }
 },
 "nbformat": 4,
 "nbformat_minor": 5
}
